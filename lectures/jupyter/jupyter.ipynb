{
 "cells": [
  {
   "cell_type": "code",
   "execution_count": null,
   "metadata": {
    "slideshow": {
     "slide_type": "skip"
    }
   },
   "outputs": [],
   "source": [
    "import seaborn as sns\n",
    "import pandas as pd\n",
    "import matplotlib.pyplot as plt\n",
    "from ipywidgets import interact\n",
    "%matplotlib inline\n",
    "%config InlineBackend.figure_format = 'svg'\n",
    "plt.style.use('seaborn-talk')"
   ]
  },
  {
   "cell_type": "markdown",
   "metadata": {
    "slideshow": {
     "slide_type": "slide"
    }
   },
   "source": [
    "_Connect code and reports with_\n",
    "<br>\n",
    "\n",
    "<img src=\"https://jupyter.readthedocs.io/en/latest/_static/_images/jupyter.svg\" alt=\"title\" style=\"float: left;\">"
   ]
  },
  {
   "cell_type": "markdown",
   "metadata": {
    "slideshow": {
     "slide_type": "slide"
    }
   },
   "source": [
    "## Typical guidelines for keeping a notebook of wet-lab work"
   ]
  },
  {
   "cell_type": "markdown",
   "metadata": {
    "slideshow": {
     "slide_type": "fragment"
    }
   },
   "source": [
    "<font size=\"5\">\n",
    "<ol>\n",
    "<li>Record everything you do in the lab, even if you are following a published procedure.</li>\n",
    "<li>If you make a mistake, put a line through the mistake and write the new information next to it.</li>\n",
    "<li>Use a ball point pen so that marks will not smear nor will they be erasable.</li>\n",
    "<li>Use a bound notebook so that tear-out would be visible.</li>\n",
    "<li>When you finish a page, put a corner-to corner line through any blank parts that could still be used for data entry.</li>\n",
    "<li>All pages must be pre-numbered.</li>\n",
    "<li>Write a title for each and every new set of entries.</li>\n",
    "<li>It is critical that you enter all procedures and data directly into your notebook in a timely manner.</li>\n",
    "<li>Properly introduce and summarize each experiment.</li>\n",
    "<li>The investigator and supervisor must sign each page.</li>\n",
    "<br>\n",
    "etc...\n",
    "</ol>"
   ]
  },
  {
   "cell_type": "markdown",
   "metadata": {
    "slideshow": {
     "slide_type": "slide"
    }
   },
   "source": [
    "## Typical guidelines for keeping a notebook of dry-lab work"
   ]
  },
  {
   "cell_type": "markdown",
   "metadata": {
    "slideshow": {
     "slide_type": "fragment"
    }
   },
   "source": [
    "![Tumbleweed](https://media.giphy.com/media/5x89XRx3sBZFC/giphy.gif)"
   ]
  },
  {
   "cell_type": "markdown",
   "metadata": {
    "slideshow": {
     "slide_type": "slide"
    }
   },
   "source": [
    "<font size=\"5\">\n",
    "    \n",
    "**Literate programming**\n",
    "\n",
    ">Instead of imagining that our main task is to instruct a computer what to do, let us concentrate rather on explaining to human beings what we want a computer to do. - _Donald Knuth (1984)_\n",
    "\n",
    "**Literate computing**\n",
    "\n",
    ">A literate computing environment is one that allows users not only to execute commands interactively, but also to store in a literate document the results of these commands along with figures and free-form text. - _Millman KJ and Perez F (2014)_"
   ]
  },
  {
   "cell_type": "markdown",
   "metadata": {
    "slideshow": {
     "slide_type": "subslide"
    }
   },
   "source": [
    "**Wolfram Mathematica notebook (1987)**\n",
    "\n",
    "<img src=\"https://content.wolfram.com/uploads/sites/17/2019/08/1987_early_programs_2.png\" alt=\"title\" width=\"500\" style=\"float:left;\">"
   ]
  },
  {
   "cell_type": "markdown",
   "metadata": {
    "slideshow": {
     "slide_type": "slide"
    }
   },
   "source": [
    "## The Jupyter notebook"
   ]
  },
  {
   "cell_type": "markdown",
   "metadata": {
    "slideshow": {
     "slide_type": "fragment"
    }
   },
   "source": [
    "The Jupyter Notebook is a web application for **interactive** data science and scientific computing."
   ]
  },
  {
   "cell_type": "markdown",
   "metadata": {
    "slideshow": {
     "slide_type": "fragment"
    }
   },
   "source": [
    "In-browser editing for code, with automatic syntax highlighting, indentation, and tab completion/introspection."
   ]
  },
  {
   "cell_type": "markdown",
   "metadata": {
    "slideshow": {
     "slide_type": "subslide"
    }
   },
   "source": [
    "Document your work in Markdown"
   ]
  },
  {
   "cell_type": "markdown",
   "metadata": {
    "slideshow": {
     "slide_type": "fragment"
    }
   },
   "source": [
    "# Penguin data analysis\n",
    "Here we will investigate the [Penguin dataset](https://github.com/allisonhorst/palmerpenguins).\n",
    "\n",
    "-----\n",
    "The species included in this set are:\n",
    " - _Adelie_\n",
    " - _Chinstrap_\n",
    " - _Gentoo_"
   ]
  },
  {
   "cell_type": "markdown",
   "metadata": {
    "slideshow": {
     "slide_type": "subslide"
    }
   },
   "source": [
    "Execute code directly from the browser, with results attached to the code which generated them"
   ]
  },
  {
   "cell_type": "code",
   "execution_count": null,
   "metadata": {
    "slideshow": {
     "slide_type": "fragment"
    }
   },
   "outputs": [],
   "source": [
    "data = sns.load_dataset(\"penguins\")\n",
    "data.groupby(\"species\").mean()"
   ]
  },
  {
   "cell_type": "markdown",
   "metadata": {
    "slideshow": {
     "slide_type": "subslide"
    }
   },
   "source": [
    "Generate plots directly in the browser and/or save to file."
   ]
  },
  {
   "cell_type": "code",
   "execution_count": null,
   "metadata": {
    "slideshow": {
     "slide_type": "skip"
    }
   },
   "outputs": [],
   "source": [
    "sns.set_context(\"paper\", rc={\"axes.labelsize\":6})"
   ]
  },
  {
   "cell_type": "code",
   "execution_count": null,
   "metadata": {
    "slideshow": {
     "slide_type": "fragment"
    }
   },
   "outputs": [],
   "source": [
    "ax = sns.pairplot(data, hue=\"species\", height=1, \n",
    "                  plot_kws=dict(s=20, linewidth=0.5), \n",
    "                  diag_kws=dict(linewidth=0.5))"
   ]
  },
  {
   "cell_type": "code",
   "execution_count": null,
   "metadata": {
    "slideshow": {
     "slide_type": "skip"
    }
   },
   "outputs": [],
   "source": [
    "%load_ext rpy2.ipython"
   ]
  },
  {
   "cell_type": "markdown",
   "metadata": {
    "slideshow": {
     "slide_type": "subslide"
    }
   },
   "source": [
    "Mix and match languages in addition to `python` (_e.g._ `R`, `bash`, `ruby`)"
   ]
  },
  {
   "cell_type": "code",
   "execution_count": null,
   "metadata": {
    "slideshow": {
     "slide_type": "fragment"
    }
   },
   "outputs": [],
   "source": [
    "%%R\n",
    "x <- 1:12\n",
    "sample(x, replace = TRUE)"
   ]
  },
  {
   "cell_type": "code",
   "execution_count": null,
   "metadata": {
    "slideshow": {
     "slide_type": "fragment"
    }
   },
   "outputs": [],
   "source": [
    "%%bash\n",
    "uname -v"
   ]
  },
  {
   "cell_type": "markdown",
   "metadata": {
    "slideshow": {
     "slide_type": "subslide"
    }
   },
   "source": [
    "Create interactive widgets"
   ]
  },
  {
   "cell_type": "code",
   "execution_count": null,
   "metadata": {
    "slideshow": {
     "slide_type": "fragment"
    }
   },
   "outputs": [],
   "source": [
    "def f(palette, x, y):\n",
    "    plt.figure(1, figsize=(3,3))\n",
    "    ax = sns.scatterplot(data=data, x=x, y=y, hue=\"species\", palette=palette)\n",
    "    ax.legend(bbox_to_anchor=(1,1))\n",
    "\n",
    "_ = interact(f, palette=[\"Set1\",\"Set2\",\"Dark2\",\"Paired\"], \n",
    "            y=[\"bill_length_mm\", \"bill_depth_mm\", \"flipper_length_mm\", \"body_mass_g\"],\n",
    "            x=[\"bill_depth_mm\", \"bill_length_mm\", \"flipper_length_mm\", \"body_mass_g\"])"
   ]
  },
  {
   "cell_type": "markdown",
   "metadata": {
    "slideshow": {
     "slide_type": "slide"
    }
   },
   "source": [
    "### Notebook basics"
   ]
  },
  {
   "cell_type": "markdown",
   "metadata": {
    "slideshow": {
     "slide_type": "fragment"
    }
   },
   "source": [
    "- Runs as a local web server\n",
    "- Load/save/manage notebooks from the menu\n",
    "\n",
    "<img src=\"https://github.com/NBISweden/workshop-reproducible-research/raw/main/docs/images/jupyter_basic_update.png\" alt=\"title\" width=\"600\"  style=\"float:left;padding:5px;\">"
   ]
  },
  {
   "cell_type": "markdown",
   "metadata": {
    "slideshow": {
     "slide_type": "subslide"
    }
   },
   "source": [
    "The notebook itself is a JSON file"
   ]
  },
  {
   "cell_type": "code",
   "execution_count": null,
   "metadata": {
    "slideshow": {
     "slide_type": "fragment"
    }
   },
   "outputs": [],
   "source": [
    "!head -20 jupyter.ipynb"
   ]
  },
  {
   "cell_type": "markdown",
   "metadata": {
    "slideshow": {
     "slide_type": "slide"
    }
   },
   "source": [
    "## Sharing is caring"
   ]
  },
  {
   "cell_type": "markdown",
   "metadata": {
    "slideshow": {
     "slide_type": "fragment"
    }
   },
   "source": [
    "- Put the notebook on GitHub/Bitbucket and it will be rendered there..."
   ]
  },
  {
   "cell_type": "markdown",
   "metadata": {
    "slideshow": {
     "slide_type": "fragment"
    }
   },
   "source": [
    "- ... or export to one of many different formats, _e.g._ HTML, PDF, code, **slides** etc. (this presentation is a [Jupyter notebook](https://github.com/NBISweden/workshop-reproducible-research/blob/main/lectures/jupyter/jupyter.ipynb))"
   ]
  },
  {
   "cell_type": "markdown",
   "metadata": {
    "slideshow": {
     "slide_type": "subslide"
    }
   },
   "source": [
    "Or paste a link to any Jupyter notebook at [nbviewer.jupyter.org](https://nbviewer.jupyter.org) and it will be rendered for you."
   ]
  },
  {
   "cell_type": "code",
   "execution_count": null,
   "metadata": {
    "slideshow": {
     "slide_type": "fragment"
    }
   },
   "outputs": [],
   "source": [
    "%%html\n",
    "<!-- MRSA Notebook that you'll work on in the tutorial -->\n",
    "<!-- https://github.com/NBISweden/workshop-reproducible-research/blob/main/jupyter/supplementary_material.ipynb -->\n",
    "<iframe src=\"https://nbviewer.jupyter.org/\" height=\"800\" width=\"800\"></iframe>"
   ]
  },
  {
   "cell_type": "markdown",
   "metadata": {
    "slideshow": {
     "slide_type": "subslide"
    }
   },
   "source": [
    "Or generate interactive notebooks using [Binder](https://mybinder.org)"
   ]
  },
  {
   "cell_type": "code",
   "execution_count": null,
   "metadata": {
    "scrolled": false,
    "slideshow": {
     "slide_type": "subslide"
    }
   },
   "outputs": [],
   "source": [
    "%%HTML\n",
    "<iframe src=\"https://mybinder.org\" height=\"800\" width=\"800\"></iframe>"
   ]
  },
  {
   "cell_type": "markdown",
   "metadata": {
    "slideshow": {
     "slide_type": "subslide"
    }
   },
   "source": [
    "Binder can generate a _'Binder badge'_ for your repo. Clicking the badge launches an interactive version of your repository or notebook.\n",
    "\n",
    "[![Binder](https://mybinder.org/badge_logo.svg)](https://mybinder.org/v2/gh/NBISweden/workshop-reproducible-research/binder?filepath=lectures%2Fjupyter%2Fjupyter.ipynb)"
   ]
  },
  {
   "cell_type": "markdown",
   "metadata": {
    "slideshow": {
     "slide_type": "slide"
    }
   },
   "source": [
    "# Jupyter Lab\n",
    "---\n",
    "_JupyterLab is the next-generation web-based user interface for Project Jupyter._"
   ]
  },
  {
   "cell_type": "markdown",
   "metadata": {
    "slideshow": {
     "slide_type": "subslide"
    }
   },
   "source": [
    "<img src=\"https://jupyterlab.readthedocs.io/en/stable/_images/jupyterlab.png\" width=\"75%\">\n",
    "\n",
    "<font size=\"5\">\n",
    "\n",
    "- full-fledged IDE, similar to e.g. Rstudio.\n",
    "- Tab views, Code consoles, Show output in a separate tab, Live rendering of edits\n",
    "\n",
    "`conda install –c conda-forge jupyterlab`"
   ]
  },
  {
   "cell_type": "markdown",
   "metadata": {
    "slideshow": {
     "slide_type": "slide"
    }
   },
   "source": [
    "# <img src=\"https://jupyterbook.org/_static/logo.png\" style=\"float: left;\" width=\"240\">\n"
   ]
  },
  {
   "cell_type": "markdown",
   "metadata": {
    "slideshow": {
     "slide_type": "fragment"
    }
   },
   "source": [
    "_lets you build an online book using a collection of Jupyter Notebooks and Markdown files_\n",
    "\n",
    "- Interactivity\n",
    "- Citations\n",
    "- Build and host it online with GitHub/GitHub Pages...\n",
    "- or locally on your own laptop"
   ]
  },
  {
   "cell_type": "markdown",
   "metadata": {
    "slideshow": {
     "slide_type": "slide"
    }
   },
   "source": [
    "# For the tutorial:\n",
    "\n",
    "---\n",
    "\n",
    "use `jupyter notebook` or `jupyter lab`"
   ]
  },
  {
   "cell_type": "markdown",
   "metadata": {
    "slideshow": {
     "slide_type": "slide"
    }
   },
   "source": [
    "# Questions?"
   ]
  }
 ],
 "metadata": {
  "celltoolbar": "Slideshow",
  "kernelspec": {
   "display_name": "Python 3",
   "language": "python",
   "name": "python3"
  },
  "language_info": {
   "codemirror_mode": {
    "name": "ipython",
    "version": 3
   },
   "file_extension": ".py",
   "mimetype": "text/x-python",
   "name": "python",
   "nbconvert_exporter": "python",
   "pygments_lexer": "ipython3",
   "version": "3.8.6"
  }
 },
 "nbformat": 4,
 "nbformat_minor": 4
}
